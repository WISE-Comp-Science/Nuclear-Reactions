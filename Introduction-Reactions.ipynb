{
 "cells": [
  {
   "cell_type": "markdown",
   "metadata": {},
   "source": [
    "# Introduction to Nuclear Reactions"
   ]
  },
  {
   "cell_type": "markdown",
   "metadata": {},
   "source": [
    "This will be a brief introduction to the nuclear reactions occurring in the interiors of white dwarf stars, which are very compact stars on the order of $\\approx 0.5-1 M_\\odot$ and with a radius about the radius of the Earth (for reference, the radius of the Earth is $6371 \\ km$ and the radius of the Sun is approximately $696,000\\ km$). See, for recent measurements of the white dwarf mass-radius relation using the Gaia satellite, Tremblay, et al 2017 (esp. Table 4) (https://academic.oup.com/mnras/article-lookup/doi/10.1093/mnras/stw2854).\n",
    "\n",
    "The basic question we need to answer to start out is the following: how can we determine the composition of a hot, dense plasma which is undergoing nuclear reactions? \n",
    "\n",
    "## The General Picture\n",
    "\n",
    "Consider a stationary volume of fluid (which could be, e.g. inside a star) which consists of an ideal gas of nuclei together with a gas of electrons. This is typical for the interiors of most stars, where temperatures are generally high enough that all the atoms are fully ionized. We can give each type of nucleus an integer label $i$ to identify it and then introduce the following useful variables:\n",
    "\n",
    "* $Z_i$: the number of protons in nucleus $i$\n",
    "* $A_i$: the total number of protons and neutrons in nucleus $i$\n",
    "* $B_i$: the nuclear binding energy of nucleus $i$\n",
    "* $n_i$: the number density of nucleus $i$ (e.g. number of nuclei per cubic centimeter)\n",
    "* $X_i$: the fraction by mass which this nucleus type represents. \n",
    "\n",
    "\\begin{equation}\n",
    "X_i = \\dfrac{\\rho_i}{\\rho}\n",
    "\\end{equation}\n",
    "\n",
    "* $Y_i$: the number of nucleons per mol (molar abundance). \n",
    "\n",
    "\\begin{equation}\n",
    "Y_i = \\dfrac{X_i}{A_i} = \\dfrac{n_i}{\\rho N_A}\n",
    "\\end{equation}\n",
    "\n",
    "Because the fluid volume is stationary, the rate of change with time of the molar abundances $Y_i$ can be expressed simply as:\n",
    "\n",
    "\\begin{equation}\n",
    "\\dfrac{d Y_i}{dt} = \\dot{R}_i\n",
    "\\end{equation}\n",
    "\n",
    "Where in the above, $\\dot{R}_i$ represents the rate at which species $i$ is consumed or produced as a result of nuclear reactions.\n",
    "\n",
    "## Nuclear Reaction Equations\n",
    "\n",
    "Consider a reaction of the form $A + B \\rightarrow C + D$ where nuclei $A$ and $B$ fuse to form a large unstable nucleus that fragments into smaller nuclei $C$ and $D$. Well, if we have some quantity of $A$ and $B$ present, we can write the rate at which the abundances of these nuclei change as follows:\n",
    "\n",
    "\\begin{align}\n",
    "\\dfrac{dY_A}{dt} &= -\\rho Y_A Y_B \\lambda_{AB} \\\\\n",
    "\\dfrac{dY_B}{dt} &= -\\rho Y_A Y_B \\lambda_{AB} \\\\\n",
    "\\dfrac{dY_C}{dt} &= +\\rho Y_A Y_B \\lambda_{AB} \\\\\n",
    "\\dfrac{dY_D}{dt} &= +\\rho Y_A Y_B \\lambda_{AB} \\\\\n",
    "\\end{align}\n",
    "\n",
    "In the above, $\\lambda_{AB}$ is the rate at which the reaction occurs and has units of $\\dfrac{Volume}{mol \\cdot Time}$ or $\\dfrac{cm^3}{mol \\cdot s}$ in c.g.s. units. All the nuclear physics is embedded in this factor $\\lambda_{AB}$ which in general depends on temperature, density, and composition and expresses the probability of the above fusion event between $A$ and $B$ occurring and then producing $C$ and $D$.\n",
    "\n",
    "The above composes a set of first-order differential equations we can solve given an initial composition to determine how the composition evolves in time subject to the reaction $A + B \\rightarrow C + D$.\n",
    "\n",
    "We can add the following equation to determine how much energy is released (or absorbed) due to this reaction, accounting for the nuclear binding energies of the participating nuclei:\n",
    "\n",
    "\\begin{equation}\n",
    "\\dfrac{d\\epsilon}{dt} = N_A \\sum_i B_i \\dfrac{dY_i}{dt}\n",
    "\\end{equation}\n",
    "\n",
    "We will integrate this equation together with the composition equations to determine the abundances and energy production after some amount of time has passed.\n",
    "\n",
    "## Carbon Fusion in a White Dwarf\n",
    "\n",
    "Although the following example is based on nuclear reactions in white dwarf stars, the exact same equations can be used to study nuclear reactions in any other context, such as the Sun or supernovae.\n",
    "\n",
    "A white dwarf is typically composed of $^{12}C$ and $^{16}O$ in roughly equal parts and at typical white dwarf central densities and temperatures of $10^9\\ g/cm^3$ and $10^8\\ K$, respectively, the following nuclear fusion reactions between $^{12}C$ nuclides are important:\n",
    "\n",
    "\\begin{align}\n",
    "^{12}C + ^{12}C &\\rightarrow ^{23}Na + ^{1}H \\\\\n",
    "^{12}C + ^{12}C &\\rightarrow ^{20}Ne + ^{4}He \\\\\n",
    "\\end{align}\n",
    "\n",
    "Using the above equations, we can write down the following differential equations that describe these carbon fusion reactions:\n",
    "\n",
    "## Nuclear Reaction Rates\n",
    "\n",
    "To calculate the nucleosynthesis in a white dwarf as a result of carbon fusion, we will need to know how to calculate the reaction rates $\\lambda$. This is an active field of research for experimental and theoretical nuclear physicists, and the best available data is compiled helpfully online by the Joint Institute for Nuclear Astrophysics (JINA) here in the Reaclib library: https://groups.nscl.msu.edu/jina/reaclib/db/search.php\n",
    "\n",
    "Go ahead and search for the above carbon fusion reactions in the Reaclib library and download the rate files in \"Reaclib 1 Format\" as shown below:\n",
    "\n",
    "![Download Reaclib Rate](fig/Reaclib-Download.png)"
   ]
  },
  {
   "cell_type": "code",
   "execution_count": null,
   "metadata": {
    "collapsed": true
   },
   "outputs": [],
   "source": []
  }
 ],
 "metadata": {
  "anaconda-cloud": {},
  "kernelspec": {
   "display_name": "Python [default]",
   "language": "python",
   "name": "python3"
  },
  "language_info": {
   "codemirror_mode": {
    "name": "ipython",
    "version": 3
   },
   "file_extension": ".py",
   "mimetype": "text/x-python",
   "name": "python",
   "nbconvert_exporter": "python",
   "pygments_lexer": "ipython3",
   "version": "3.5.2"
  }
 },
 "nbformat": 4,
 "nbformat_minor": 1
}
